{
 "cells": [
  {
   "cell_type": "code",
   "execution_count": 35,
   "id": "2c388ca3",
   "metadata": {},
   "outputs": [],
   "source": [
    "#install all the modules and libraries using pip function\n",
    "# A requests is a module used when we want to navigate via https urls on web browser.\n",
    "import requests \n",
    "# BeautifulSoup library is used to extract the data (i.e, posts, images,urls, headings, information about posts)  \n",
    "# from html and xml files easily. It is a web scraping tool. Here, we used BeautifulSoup Version 4.\n",
    "from bs4 import BeautifulSoup \n",
    "# Request API (Application Programming Interface), a server, used to send and recieve the data from the website url.\n",
    "from requests.api import request\n",
    "# Json library helps to create a json file (i.e., a semi-structured dictionary) where we can dump the data and use it as\n",
    "# an input for our chatbot training python file.\n",
    "import json\n",
    "# With help of response, we can know the response code which decides the failure or success in terms of launching the url.\n",
    "from requests.models import Response"
   ]
  },
  {
   "cell_type": "code",
   "execution_count": 36,
   "id": "5590c4b3",
   "metadata": {},
   "outputs": [],
   "source": [
    "#Our research dev url for which we are going to create a chatbot is stored in a variable as shown.\n",
    "#In order to know success or failure, get() method is used. here, the response code is 200 which is success.\n",
    "#To get the backend text from website, we used \"BeautifulSoup\" class via text() method.\n",
    "#Purpose of 'html.parser' is to attain just data in the html or xml file, leaving the tags behind.\n",
    "\n",
    "research_dev_url = 'https://research-dev.unt.edu/'\n",
    "response = requests.get('https://research-dev.unt.edu/')\n",
    "soup = BeautifulSoup(response.text,'html.parser')"
   ]
  },
  {
   "cell_type": "code",
   "execution_count": 37,
   "id": "f848cfe0",
   "metadata": {},
   "outputs": [],
   "source": [
    "# Here data from \"expanded class\" tag is extracted using \"find_all\" method.\n",
    "menu_headings = soup.find_all(class_='expanded')\n",
    "#print(\"Headings in class tags are only extracted from entire html file:\",menu_headings)"
   ]
  },
  {
   "cell_type": "code",
   "execution_count": 34,
   "id": "e31ade83",
   "metadata": {},
   "outputs": [
    {
     "name": "stdout",
     "output_type": "stream",
     "text": [
      "1:News and Events\n",
      "Url for the News and Events is https://research-dev.unt.edu//home#latest-news\n",
      "2:VPRI\n",
      "Url for the VPRI is https://research-dev.unt.edu//vpri\n",
      "3:Research Services\n",
      "Url for the Research Services is https://research-dev.unt.edu//research-services\n",
      "4:Grants and Contracts Administration\n",
      "Url for the Grants and Contracts Administration is https://research-dev.unt.edu//research-services/grants-and-contracts\n",
      "5:Proposal Preparation and Submission\n",
      "Url for the Proposal Preparation and Submission is https://research-dev.unt.edu//research-services/grants-and-contracts/proposal-preparation-and-submission\n",
      "6:Cayuse SP Routing\n",
      "Url for the Cayuse SP Routing is https://research-dev.unt.edu//research-services/grants-and-contracts/proposal-preparation-and-submission/cayuse-sp-routing\n",
      "7:Research Integrity and Compliance\n",
      "Url for the Research Integrity and Compliance is https://research-dev.unt.edu//research-services/research-integrity-and-compliance\n",
      "8:Human Subjects (IRB)\n",
      "Url for the Human Subjects (IRB) is https://research-dev.unt.edu//research-services/research-integrity-and-compliance/human-subjects-irb\n",
      "9:Animal Subjects (IACUC)\n",
      "Url for the Animal Subjects (IACUC) is https://research-dev.unt.edu//research-services/research-integrity-and-compliance/animal-subjects-iacuc\n",
      "10:Conflict of Interest (COI)\n",
      "Url for the Conflict of Interest (COI) is https://research-dev.unt.edu//research-services/research-integrity-and-compliance/conflict-interest-coi\n",
      "11:Export Control\n",
      "Url for the Export Control is https://research-dev.unt.edu//research-services/research-integrity-and-compliance/export-control\n",
      "12:Research Commercial Agreements\n",
      "Url for the Research Commercial Agreements is https://research-dev.unt.edu//research-services/research-commercial-agreements\n",
      "13:Disclose an Invention\n",
      "Url for the Disclose an Invention is https://research-dev.unt.edu//research-services/research-commercial-agreements/disclose-invention\n",
      "14:Research Development\n",
      "Url for the Research Development is https://research-dev.unt.edu//research-services/research-development\n",
      "15:Proposal Development Services\n",
      "Url for the Proposal Development Services is https://research-dev.unt.edu//research-services/research-development/proposal-development-services\n",
      "16:Broader Impacts\n",
      "Url for the Broader Impacts is https://research-dev.unt.edu//research-services/research-development/broader-impacts\n",
      "17:Research Funding Opportunities\n",
      "Url for the Research Funding Opportunities is https://research-dev.unt.edu//research-funding-opportunities\n",
      "18:Research Units & Facilities\n",
      "Url for the Research Units & Facilities is https://research-dev.unt.edu//research-units-facilities\n",
      "19:University Managed Facilities\n",
      "Url for the University Managed Facilities is https://research-dev.unt.edu//research-units-facilities/university-managed-facilities\n",
      "20:BioAnalytical Facility\n",
      "Url for the BioAnalytical Facility is https://research-dev.unt.edu//research-units-facilities/university-managed-facilities/bioanalytical-facility\n",
      "21:Services and Fees\n",
      "Url for the Services and Fees is https://research-dev.unt.edu//research-units-facilities/university-managed-facilities/bioanalytical-facility/services-and-fees\n",
      "22:Genomics Center\n",
      "Url for the Genomics Center is https://research-dev.unt.edu//research-units-facilities/university-managed-facilities/genomics-center\n",
      "23:Pricing\n",
      "Url for the Pricing is https://research-dev.unt.edu//research-units-facilities/university-managed-facilities/genomics-center/pricing\n",
      "24:Publications\n",
      "Url for the Publications is https://research-dev.unt.edu//publications\n"
     ]
    }
   ],
   "source": [
    "# Here just the text (i.e., headings with their respective urls) is extracted from the tags and dumped in form of \n",
    "# a dictionary in a json file named \"research_rawdata.json\"\n",
    "\n",
    "with open('research_rawdata.json','w') as json_file:\n",
    "    dictionary = {}\n",
    "    for menu,num in zip(menu_headings,range(1,len(menu_headings))):\n",
    "        menu_text = menu.find('a').contents[0]\n",
    "        #menu_text = menu.get_text().replace('\\n',',')\n",
    "        menu_list = list(menu_text.split(','))\n",
    "        menu_url = menu.find('a')['href']\n",
    "        Url = research_dev_url+menu_url\n",
    "        dictionary[menu_list[0]] = Url\n",
    "        print(\"{}:{}\".format(num,menu_text))\n",
    "        print(\"Url for the {} is {}\".format(menu_list[0],Url))\n",
    "    json.dump(dictionary,json_file)"
   ]
  },
  {
   "cell_type": "code",
   "execution_count": null,
   "id": "639902f7",
   "metadata": {},
   "outputs": [],
   "source": []
  },
  {
   "cell_type": "code",
   "execution_count": null,
   "id": "a164aee6",
   "metadata": {},
   "outputs": [],
   "source": []
  }
 ],
 "metadata": {
  "kernelspec": {
   "display_name": "Python 3 (ipykernel)",
   "language": "python",
   "name": "python3"
  },
  "language_info": {
   "codemirror_mode": {
    "name": "ipython",
    "version": 3
   },
   "file_extension": ".py",
   "mimetype": "text/x-python",
   "name": "python",
   "nbconvert_exporter": "python",
   "pygments_lexer": "ipython3",
   "version": "3.9.7"
  }
 },
 "nbformat": 4,
 "nbformat_minor": 5
}
